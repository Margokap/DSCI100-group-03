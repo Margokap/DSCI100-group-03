{
 "cells": [
  {
   "cell_type": "code",
   "execution_count": 3,
   "id": "398bde3a-b077-41c0-a067-88cb600378f7",
   "metadata": {
    "vscode": {
     "languageId": "r"
    }
   },
   "outputs": [
    {
     "name": "stderr",
     "output_type": "stream",
     "text": [
      "── \u001b[1mAttaching packages\u001b[22m ─────────────────────────────────────── tidyverse 1.3.1 ──\n",
      "\n",
      "\u001b[32m✔\u001b[39m \u001b[34mggplot2\u001b[39m 3.3.6     \u001b[32m✔\u001b[39m \u001b[34mpurrr  \u001b[39m 0.3.4\n",
      "\u001b[32m✔\u001b[39m \u001b[34mtibble \u001b[39m 3.1.7     \u001b[32m✔\u001b[39m \u001b[34mdplyr  \u001b[39m 1.0.9\n",
      "\u001b[32m✔\u001b[39m \u001b[34mtidyr  \u001b[39m 1.2.0     \u001b[32m✔\u001b[39m \u001b[34mstringr\u001b[39m 1.4.0\n",
      "\u001b[32m✔\u001b[39m \u001b[34mreadr  \u001b[39m 2.1.2     \u001b[32m✔\u001b[39m \u001b[34mforcats\u001b[39m 0.5.1\n",
      "\n",
      "── \u001b[1mConflicts\u001b[22m ────────────────────────────────────────── tidyverse_conflicts() ──\n",
      "\u001b[31m✖\u001b[39m \u001b[34mdplyr\u001b[39m::\u001b[32mfilter()\u001b[39m masks \u001b[34mstats\u001b[39m::filter()\n",
      "\u001b[31m✖\u001b[39m \u001b[34mdplyr\u001b[39m::\u001b[32mlag()\u001b[39m    masks \u001b[34mstats\u001b[39m::lag()\n",
      "\n",
      "── \u001b[1mAttaching packages\u001b[22m ────────────────────────────────────── tidymodels 1.0.0 ──\n",
      "\n",
      "\u001b[32m✔\u001b[39m \u001b[34mbroom       \u001b[39m 1.0.0     \u001b[32m✔\u001b[39m \u001b[34mrsample     \u001b[39m 1.0.0\n",
      "\u001b[32m✔\u001b[39m \u001b[34mdials       \u001b[39m 1.0.0     \u001b[32m✔\u001b[39m \u001b[34mtune        \u001b[39m 1.0.0\n",
      "\u001b[32m✔\u001b[39m \u001b[34minfer       \u001b[39m 1.0.2     \u001b[32m✔\u001b[39m \u001b[34mworkflows   \u001b[39m 1.0.0\n",
      "\u001b[32m✔\u001b[39m \u001b[34mmodeldata   \u001b[39m 1.0.0     \u001b[32m✔\u001b[39m \u001b[34mworkflowsets\u001b[39m 1.0.0\n",
      "\u001b[32m✔\u001b[39m \u001b[34mparsnip     \u001b[39m 1.0.0     \u001b[32m✔\u001b[39m \u001b[34myardstick   \u001b[39m 1.0.0\n",
      "\u001b[32m✔\u001b[39m \u001b[34mrecipes     \u001b[39m 1.0.1     \n",
      "\n",
      "── \u001b[1mConflicts\u001b[22m ───────────────────────────────────────── tidymodels_conflicts() ──\n",
      "\u001b[31m✖\u001b[39m \u001b[34mscales\u001b[39m::\u001b[32mdiscard()\u001b[39m masks \u001b[34mpurrr\u001b[39m::discard()\n",
      "\u001b[31m✖\u001b[39m \u001b[34mdplyr\u001b[39m::\u001b[32mfilter()\u001b[39m   masks \u001b[34mstats\u001b[39m::filter()\n",
      "\u001b[31m✖\u001b[39m \u001b[34mrecipes\u001b[39m::\u001b[32mfixed()\u001b[39m  masks \u001b[34mstringr\u001b[39m::fixed()\n",
      "\u001b[31m✖\u001b[39m \u001b[34mdplyr\u001b[39m::\u001b[32mlag()\u001b[39m      masks \u001b[34mstats\u001b[39m::lag()\n",
      "\u001b[31m✖\u001b[39m \u001b[34myardstick\u001b[39m::\u001b[32mspec()\u001b[39m masks \u001b[34mreadr\u001b[39m::spec()\n",
      "\u001b[31m✖\u001b[39m \u001b[34mrecipes\u001b[39m::\u001b[32mstep()\u001b[39m   masks \u001b[34mstats\u001b[39m::step()\n",
      "\u001b[34m•\u001b[39m Use \u001b[32mtidymodels_prefer()\u001b[39m to resolve common conflicts.\n",
      "\n"
     ]
    }
   ],
   "source": [
    "#Group project DSCI 100 Group #3\n",
    "\n",
    "# Testing if github collaboration works\n",
    "\n",
    "library(tidyverse)\n",
    "library(repr)\n",
    "library(tidymodels)\n",
    "options(repr.matrix.max.rows = 6)"
   ]
  },
  {
   "cell_type": "code",
   "execution_count": 21,
   "id": "306ed5c2-6a48-4eb0-9a35-a8e654568013",
   "metadata": {
    "vscode": {
     "languageId": "r"
    }
   },
   "outputs": [
    {
     "name": "stderr",
     "output_type": "stream",
     "text": [
      "\u001b[1mRows: \u001b[22m\u001b[34m100000\u001b[39m \u001b[1mColumns: \u001b[22m\u001b[34m18\u001b[39m\n",
      "\u001b[36m──\u001b[39m \u001b[1mColumn specification\u001b[22m \u001b[36m────────────────────────────────────────────────────────\u001b[39m\n",
      "\u001b[1mDelimiter:\u001b[22m \",\"\n",
      "\u001b[31mchr\u001b[39m  (1): class\n",
      "\u001b[32mdbl\u001b[39m (17): obj_ID, alpha, delta, u, g, r, i, z, run_ID, rerun_ID, cam_col, fi...\n",
      "\n",
      "\u001b[36mℹ\u001b[39m Use `spec()` to retrieve the full column specification for this data.\n",
      "\u001b[36mℹ\u001b[39m Specify the column types or set `show_col_types = FALSE` to quiet this message.\n"
     ]
    },
    {
     "data": {
      "text/html": [
       "<table class=\"dataframe\">\n",
       "<caption>A tibble: 100000 × 9</caption>\n",
       "<thead>\n",
       "\t<tr><th scope=col>ascension_angle</th><th scope=col>declination_angle</th><th scope=col>ultraviolet_filter</th><th scope=col>green_filter</th><th scope=col>red_filter</th><th scope=col>near_infrared_filter</th><th scope=col>infrared_filter</th><th scope=col>redshift</th><th scope=col>class</th></tr>\n",
       "\t<tr><th scope=col>&lt;dbl&gt;</th><th scope=col>&lt;dbl&gt;</th><th scope=col>&lt;dbl&gt;</th><th scope=col>&lt;dbl&gt;</th><th scope=col>&lt;dbl&gt;</th><th scope=col>&lt;dbl&gt;</th><th scope=col>&lt;dbl&gt;</th><th scope=col>&lt;dbl&gt;</th><th scope=col>&lt;fct&gt;</th></tr>\n",
       "</thead>\n",
       "<tbody>\n",
       "\t<tr><td>135.6891</td><td>32.49463</td><td>23.87882</td><td>22.27530</td><td>20.39501</td><td>19.16573</td><td>18.79371</td><td>0.6347936</td><td>GALAXY</td></tr>\n",
       "\t<tr><td>144.8261</td><td>31.27418</td><td>24.77759</td><td>22.83188</td><td>22.58444</td><td>21.16812</td><td>21.61427</td><td>0.7791360</td><td>GALAXY</td></tr>\n",
       "\t<tr><td>142.1888</td><td>35.58244</td><td>25.26307</td><td>22.66389</td><td>20.60976</td><td>19.34857</td><td>18.94827</td><td>0.6441945</td><td>GALAXY</td></tr>\n",
       "\t<tr><td>⋮</td><td>⋮</td><td>⋮</td><td>⋮</td><td>⋮</td><td>⋮</td><td>⋮</td><td>⋮</td><td>⋮</td></tr>\n",
       "\t<tr><td>224.5874</td><td>15.70071</td><td>21.16916</td><td>19.26997</td><td>18.20428</td><td>17.69034</td><td>17.35221</td><td>0.1433656</td><td>GALAXY</td></tr>\n",
       "\t<tr><td>212.2686</td><td>46.66037</td><td>25.35039</td><td>21.63757</td><td>19.91386</td><td>19.07254</td><td>18.62482</td><td>0.4550396</td><td>GALAXY</td></tr>\n",
       "\t<tr><td>196.8961</td><td>49.46464</td><td>22.62171</td><td>21.79745</td><td>20.60115</td><td>20.00959</td><td>19.28075</td><td>0.5429442</td><td>GALAXY</td></tr>\n",
       "</tbody>\n",
       "</table>\n"
      ],
      "text/latex": [
       "A tibble: 100000 × 9\n",
       "\\begin{tabular}{lllllllll}\n",
       " ascension\\_angle & declination\\_angle & ultraviolet\\_filter & green\\_filter & red\\_filter & near\\_infrared\\_filter & infrared\\_filter & redshift & class\\\\\n",
       " <dbl> & <dbl> & <dbl> & <dbl> & <dbl> & <dbl> & <dbl> & <dbl> & <fct>\\\\\n",
       "\\hline\n",
       "\t 135.6891 & 32.49463 & 23.87882 & 22.27530 & 20.39501 & 19.16573 & 18.79371 & 0.6347936 & GALAXY\\\\\n",
       "\t 144.8261 & 31.27418 & 24.77759 & 22.83188 & 22.58444 & 21.16812 & 21.61427 & 0.7791360 & GALAXY\\\\\n",
       "\t 142.1888 & 35.58244 & 25.26307 & 22.66389 & 20.60976 & 19.34857 & 18.94827 & 0.6441945 & GALAXY\\\\\n",
       "\t ⋮ & ⋮ & ⋮ & ⋮ & ⋮ & ⋮ & ⋮ & ⋮ & ⋮\\\\\n",
       "\t 224.5874 & 15.70071 & 21.16916 & 19.26997 & 18.20428 & 17.69034 & 17.35221 & 0.1433656 & GALAXY\\\\\n",
       "\t 212.2686 & 46.66037 & 25.35039 & 21.63757 & 19.91386 & 19.07254 & 18.62482 & 0.4550396 & GALAXY\\\\\n",
       "\t 196.8961 & 49.46464 & 22.62171 & 21.79745 & 20.60115 & 20.00959 & 19.28075 & 0.5429442 & GALAXY\\\\\n",
       "\\end{tabular}\n"
      ],
      "text/markdown": [
       "\n",
       "A tibble: 100000 × 9\n",
       "\n",
       "| ascension_angle &lt;dbl&gt; | declination_angle &lt;dbl&gt; | ultraviolet_filter &lt;dbl&gt; | green_filter &lt;dbl&gt; | red_filter &lt;dbl&gt; | near_infrared_filter &lt;dbl&gt; | infrared_filter &lt;dbl&gt; | redshift &lt;dbl&gt; | class &lt;fct&gt; |\n",
       "|---|---|---|---|---|---|---|---|---|\n",
       "| 135.6891 | 32.49463 | 23.87882 | 22.27530 | 20.39501 | 19.16573 | 18.79371 | 0.6347936 | GALAXY |\n",
       "| 144.8261 | 31.27418 | 24.77759 | 22.83188 | 22.58444 | 21.16812 | 21.61427 | 0.7791360 | GALAXY |\n",
       "| 142.1888 | 35.58244 | 25.26307 | 22.66389 | 20.60976 | 19.34857 | 18.94827 | 0.6441945 | GALAXY |\n",
       "| ⋮ | ⋮ | ⋮ | ⋮ | ⋮ | ⋮ | ⋮ | ⋮ | ⋮ |\n",
       "| 224.5874 | 15.70071 | 21.16916 | 19.26997 | 18.20428 | 17.69034 | 17.35221 | 0.1433656 | GALAXY |\n",
       "| 212.2686 | 46.66037 | 25.35039 | 21.63757 | 19.91386 | 19.07254 | 18.62482 | 0.4550396 | GALAXY |\n",
       "| 196.8961 | 49.46464 | 22.62171 | 21.79745 | 20.60115 | 20.00959 | 19.28075 | 0.5429442 | GALAXY |\n",
       "\n"
      ],
      "text/plain": [
       "       ascension_angle declination_angle ultraviolet_filter green_filter\n",
       "1      135.6891        32.49463          23.87882           22.27530    \n",
       "2      144.8261        31.27418          24.77759           22.83188    \n",
       "3      142.1888        35.58244          25.26307           22.66389    \n",
       "⋮      ⋮               ⋮                 ⋮                  ⋮           \n",
       "99998  224.5874        15.70071          21.16916           19.26997    \n",
       "99999  212.2686        46.66037          25.35039           21.63757    \n",
       "100000 196.8961        49.46464          22.62171           21.79745    \n",
       "       red_filter near_infrared_filter infrared_filter redshift  class \n",
       "1      20.39501   19.16573             18.79371        0.6347936 GALAXY\n",
       "2      22.58444   21.16812             21.61427        0.7791360 GALAXY\n",
       "3      20.60976   19.34857             18.94827        0.6441945 GALAXY\n",
       "⋮      ⋮          ⋮                    ⋮               ⋮         ⋮     \n",
       "99998  18.20428   17.69034             17.35221        0.1433656 GALAXY\n",
       "99999  19.91386   19.07254             18.62482        0.4550396 GALAXY\n",
       "100000 20.60115   20.00959             19.28075        0.5429442 GALAXY"
      ]
     },
     "metadata": {},
     "output_type": "display_data"
    }
   ],
   "source": [
    "star_data <- read_csv(\"https://raw.githubusercontent.com/Margokap/DSCI100-group-03/main/star_classification.csv\")\n",
    "## clean data (use tidy data criteria); \n",
    "# each row is a single observation,\n",
    "# each column is a single variable, and\n",
    "# each value is a single cell (i.e., its entry in the data frame is not shared with another value).\n",
    "\n",
    "##tidying data:\n",
    "\n",
    "star_data_tidy <- mutate(star_data, ascension_angle = alpha, declination_angle = delta,\n",
    "                        ultraviolet_filter = u, green_filter = g, red_filter = r,\n",
    "                        near_infrared_filter = i, infrared_filter = z, class = as.factor(class))\n",
    "(star_data_tidy <- select(star_data_tidy, ascension_angle, declination_angle, ultraviolet_filter, green_filter, \n",
    "                          red_filter, near_infrared_filter, infrared_filter, redshift, class))\n",
    "\n",
    "#Split Train and Testing data\n",
    "star_split <- initial_split(star_data_tidy, prop = 0.75, strata = class)\n",
    "star_training <- training(star_split)\n",
    "star_testing <- testing(star_split)\n"
   ]
  },
  {
   "cell_type": "markdown",
   "id": "0141feae-989b-4921-8251-0cb3fe7387ae",
   "metadata": {},
   "source": [
    "Methods:\n",
    "\n",
    "We will use xyz column to analyze our data. In particular, we will perform a classification to predict a category for a new observation using past observations of known class. In particular, we will predict xyz based on past observations of described class of xyz. "
   ]
  },
  {
   "cell_type": "markdown",
   "id": "2165c095-c8bd-44c6-a677-3bdee21b7d80",
   "metadata": {},
   "source": [
    "Expected outcomes and significance:\n",
    "\n",
    "What do you expect to find?\n",
    "What impact could such findings have?\n",
    "What future questions could this lead to?"
   ]
  }
 ],
 "metadata": {
  "kernelspec": {
   "display_name": "R",
   "language": "R",
   "name": "ir"
  },
  "language_info": {
   "codemirror_mode": "r",
   "file_extension": ".r",
   "mimetype": "text/x-r-source",
   "name": "R",
   "pygments_lexer": "r",
   "version": "4.1.3"
  }
 },
 "nbformat": 4,
 "nbformat_minor": 5
}
