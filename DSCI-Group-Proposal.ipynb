{
 "cells": [
  {
   "cell_type": "code",
   "execution_count": 2,
   "id": "398bde3a-b077-41c0-a067-88cb600378f7",
   "metadata": {
    "vscode": {
     "languageId": "r"
    }
   },
   "outputs": [
    {
     "name": "stderr",
     "output_type": "stream",
     "text": [
      "── \u001b[1mAttaching packages\u001b[22m ─────────────────────────────────────── tidyverse 1.3.1 ──\n",
      "\n",
      "\u001b[32m✔\u001b[39m \u001b[34mggplot2\u001b[39m 3.3.6     \u001b[32m✔\u001b[39m \u001b[34mpurrr  \u001b[39m 0.3.4\n",
      "\u001b[32m✔\u001b[39m \u001b[34mtibble \u001b[39m 3.1.7     \u001b[32m✔\u001b[39m \u001b[34mdplyr  \u001b[39m 1.0.9\n",
      "\u001b[32m✔\u001b[39m \u001b[34mtidyr  \u001b[39m 1.2.0     \u001b[32m✔\u001b[39m \u001b[34mstringr\u001b[39m 1.4.0\n",
      "\u001b[32m✔\u001b[39m \u001b[34mreadr  \u001b[39m 2.1.2     \u001b[32m✔\u001b[39m \u001b[34mforcats\u001b[39m 0.5.1\n",
      "\n",
      "── \u001b[1mConflicts\u001b[22m ────────────────────────────────────────── tidyverse_conflicts() ──\n",
      "\u001b[31m✖\u001b[39m \u001b[34mdplyr\u001b[39m::\u001b[32mfilter()\u001b[39m masks \u001b[34mstats\u001b[39m::filter()\n",
      "\u001b[31m✖\u001b[39m \u001b[34mdplyr\u001b[39m::\u001b[32mlag()\u001b[39m    masks \u001b[34mstats\u001b[39m::lag()\n",
      "\n",
      "── \u001b[1mAttaching packages\u001b[22m ────────────────────────────────────── tidymodels 1.0.0 ──\n",
      "\n",
      "\u001b[32m✔\u001b[39m \u001b[34mbroom       \u001b[39m 1.0.0     \u001b[32m✔\u001b[39m \u001b[34mrsample     \u001b[39m 1.0.0\n",
      "\u001b[32m✔\u001b[39m \u001b[34mdials       \u001b[39m 1.0.0     \u001b[32m✔\u001b[39m \u001b[34mtune        \u001b[39m 1.0.0\n",
      "\u001b[32m✔\u001b[39m \u001b[34minfer       \u001b[39m 1.0.2     \u001b[32m✔\u001b[39m \u001b[34mworkflows   \u001b[39m 1.0.0\n",
      "\u001b[32m✔\u001b[39m \u001b[34mmodeldata   \u001b[39m 1.0.0     \u001b[32m✔\u001b[39m \u001b[34mworkflowsets\u001b[39m 1.0.0\n",
      "\u001b[32m✔\u001b[39m \u001b[34mparsnip     \u001b[39m 1.0.0     \u001b[32m✔\u001b[39m \u001b[34myardstick   \u001b[39m 1.0.0\n",
      "\u001b[32m✔\u001b[39m \u001b[34mrecipes     \u001b[39m 1.0.1     \n",
      "\n",
      "── \u001b[1mConflicts\u001b[22m ───────────────────────────────────────── tidymodels_conflicts() ──\n",
      "\u001b[31m✖\u001b[39m \u001b[34mscales\u001b[39m::\u001b[32mdiscard()\u001b[39m masks \u001b[34mpurrr\u001b[39m::discard()\n",
      "\u001b[31m✖\u001b[39m \u001b[34mdplyr\u001b[39m::\u001b[32mfilter()\u001b[39m   masks \u001b[34mstats\u001b[39m::filter()\n",
      "\u001b[31m✖\u001b[39m \u001b[34mrecipes\u001b[39m::\u001b[32mfixed()\u001b[39m  masks \u001b[34mstringr\u001b[39m::fixed()\n",
      "\u001b[31m✖\u001b[39m \u001b[34mdplyr\u001b[39m::\u001b[32mlag()\u001b[39m      masks \u001b[34mstats\u001b[39m::lag()\n",
      "\u001b[31m✖\u001b[39m \u001b[34myardstick\u001b[39m::\u001b[32mspec()\u001b[39m masks \u001b[34mreadr\u001b[39m::spec()\n",
      "\u001b[31m✖\u001b[39m \u001b[34mrecipes\u001b[39m::\u001b[32mstep()\u001b[39m   masks \u001b[34mstats\u001b[39m::step()\n",
      "\u001b[34m•\u001b[39m Learn how to get started at \u001b[32mhttps://www.tidymodels.org/start/\u001b[39m\n",
      "\n"
     ]
    }
   ],
   "source": [
    "#Group project DSCI 100 Group #3\n",
    "\n",
    "# Testing if github collaboration works\n",
    "\n",
    "library(tidyverse)\n",
    "library(repr)\n",
    "library(tidymodels)\n",
    "options(repr.matrix.max.rows = 6)"
   ]
  },
  {
   "cell_type": "markdown",
   "id": "9e190b9c-2a7a-47da-b157-3c4b93cbedf6",
   "metadata": {},
   "source": [
    "*choosing audit data set from here: https://archive.ics.uci.edu/ml/datasets/Audit+Data\n",
    "\n",
    "Title:\n",
    "\n",
    "Main question: \n",
    "\n",
    "Dataset of interest: \n",
    "\n",
    "Preliminary exploratory data analysis:\n",
    "the cell below demonstrates reading our data into R.\n"
   ]
  },
  {
   "cell_type": "code",
   "execution_count": 13,
   "id": "306ed5c2-6a48-4eb0-9a35-a8e654568013",
   "metadata": {
    "vscode": {
     "languageId": "r"
    }
   },
   "outputs": [
    {
     "data": {
      "text/html": [
       "<table class=\"dataframe\">\n",
       "<caption>A data.frame: 776 × 27</caption>\n",
       "<thead>\n",
       "\t<tr><th scope=col>Sector_score</th><th scope=col>LOCATION_ID</th><th scope=col>PARA_A</th><th scope=col>Score_A</th><th scope=col>Risk_A</th><th scope=col>PARA_B</th><th scope=col>Score_B</th><th scope=col>Risk_B</th><th scope=col>TOTAL</th><th scope=col>numbers</th><th scope=col>⋯</th><th scope=col>RiSk_E</th><th scope=col>History</th><th scope=col>Prob</th><th scope=col>Risk_F</th><th scope=col>Score</th><th scope=col>Inherent_Risk</th><th scope=col>CONTROL_RISK</th><th scope=col>Detection_Risk</th><th scope=col>Audit_Risk</th><th scope=col>Risk</th></tr>\n",
       "\t<tr><th scope=col>&lt;dbl&gt;</th><th scope=col>&lt;chr&gt;</th><th scope=col>&lt;dbl&gt;</th><th scope=col>&lt;dbl&gt;</th><th scope=col>&lt;dbl&gt;</th><th scope=col>&lt;dbl&gt;</th><th scope=col>&lt;dbl&gt;</th><th scope=col>&lt;dbl&gt;</th><th scope=col>&lt;dbl&gt;</th><th scope=col>&lt;dbl&gt;</th><th scope=col>⋯</th><th scope=col>&lt;dbl&gt;</th><th scope=col>&lt;int&gt;</th><th scope=col>&lt;dbl&gt;</th><th scope=col>&lt;dbl&gt;</th><th scope=col>&lt;dbl&gt;</th><th scope=col>&lt;dbl&gt;</th><th scope=col>&lt;dbl&gt;</th><th scope=col>&lt;dbl&gt;</th><th scope=col>&lt;dbl&gt;</th><th scope=col>&lt;int&gt;</th></tr>\n",
       "</thead>\n",
       "<tbody>\n",
       "\t<tr><td>3.89</td><td>23</td><td>4.18</td><td>0.6</td><td>2.508</td><td>2.50</td><td>0.2</td><td>0.500</td><td>6.68</td><td>5</td><td>⋯</td><td>0.4</td><td>0</td><td>0.2</td><td>0</td><td>2.4</td><td>8.574</td><td>0.4</td><td>0.5</td><td>1.7148</td><td>1</td></tr>\n",
       "\t<tr><td>3.89</td><td>6 </td><td>0.00</td><td>0.2</td><td>0.000</td><td>4.83</td><td>0.2</td><td>0.966</td><td>4.83</td><td>5</td><td>⋯</td><td>0.4</td><td>0</td><td>0.2</td><td>0</td><td>2.0</td><td>2.554</td><td>0.4</td><td>0.5</td><td>0.5108</td><td>0</td></tr>\n",
       "\t<tr><td>3.89</td><td>6 </td><td>0.51</td><td>0.2</td><td>0.102</td><td>0.23</td><td>0.2</td><td>0.046</td><td>0.74</td><td>5</td><td>⋯</td><td>0.4</td><td>0</td><td>0.2</td><td>0</td><td>2.0</td><td>1.548</td><td>0.4</td><td>0.5</td><td>0.3096</td><td>0</td></tr>\n",
       "\t<tr><td>⋮</td><td>⋮</td><td>⋮</td><td>⋮</td><td>⋮</td><td>⋮</td><td>⋮</td><td>⋮</td><td>⋮</td><td>⋮</td><td>⋱</td><td>⋮</td><td>⋮</td><td>⋮</td><td>⋮</td><td>⋮</td><td>⋮</td><td>⋮</td><td>⋮</td><td>⋮</td><td>⋮</td></tr>\n",
       "\t<tr><td>55.57</td><td>14</td><td>0.24</td><td>0.2</td><td>0.048</td><td>0.04</td><td>0.2</td><td>0.008</td><td>0.28</td><td>5</td><td>⋯</td><td>0.4</td><td>0</td><td>0.2</td><td>0</td><td>2</td><td>1.456</td><td>0.4</td><td>0.5</td><td>0.2912</td><td>0</td></tr>\n",
       "\t<tr><td>55.57</td><td>18</td><td>0.20</td><td>0.2</td><td>0.040</td><td>0.00</td><td>0.2</td><td>0.000</td><td>0.20</td><td>5</td><td>⋯</td><td>0.4</td><td>0</td><td>0.2</td><td>0</td><td>2</td><td>1.440</td><td>0.4</td><td>0.5</td><td>0.2880</td><td>0</td></tr>\n",
       "\t<tr><td>55.57</td><td>15</td><td>0.00</td><td>0.2</td><td>0.000</td><td>0.00</td><td>0.2</td><td>0.000</td><td>0.00</td><td>5</td><td>⋯</td><td>0.4</td><td>0</td><td>0.2</td><td>0</td><td>2</td><td>1.464</td><td>0.4</td><td>0.5</td><td>0.2928</td><td>0</td></tr>\n",
       "</tbody>\n",
       "</table>\n"
      ],
      "text/latex": [
       "A data.frame: 776 × 27\n",
       "\\begin{tabular}{lllllllllllllllllllll}\n",
       " Sector\\_score & LOCATION\\_ID & PARA\\_A & Score\\_A & Risk\\_A & PARA\\_B & Score\\_B & Risk\\_B & TOTAL & numbers & ⋯ & RiSk\\_E & History & Prob & Risk\\_F & Score & Inherent\\_Risk & CONTROL\\_RISK & Detection\\_Risk & Audit\\_Risk & Risk\\\\\n",
       " <dbl> & <chr> & <dbl> & <dbl> & <dbl> & <dbl> & <dbl> & <dbl> & <dbl> & <dbl> & ⋯ & <dbl> & <int> & <dbl> & <dbl> & <dbl> & <dbl> & <dbl> & <dbl> & <dbl> & <int>\\\\\n",
       "\\hline\n",
       "\t 3.89 & 23 & 4.18 & 0.6 & 2.508 & 2.50 & 0.2 & 0.500 & 6.68 & 5 & ⋯ & 0.4 & 0 & 0.2 & 0 & 2.4 & 8.574 & 0.4 & 0.5 & 1.7148 & 1\\\\\n",
       "\t 3.89 & 6  & 0.00 & 0.2 & 0.000 & 4.83 & 0.2 & 0.966 & 4.83 & 5 & ⋯ & 0.4 & 0 & 0.2 & 0 & 2.0 & 2.554 & 0.4 & 0.5 & 0.5108 & 0\\\\\n",
       "\t 3.89 & 6  & 0.51 & 0.2 & 0.102 & 0.23 & 0.2 & 0.046 & 0.74 & 5 & ⋯ & 0.4 & 0 & 0.2 & 0 & 2.0 & 1.548 & 0.4 & 0.5 & 0.3096 & 0\\\\\n",
       "\t ⋮ & ⋮ & ⋮ & ⋮ & ⋮ & ⋮ & ⋮ & ⋮ & ⋮ & ⋮ & ⋱ & ⋮ & ⋮ & ⋮ & ⋮ & ⋮ & ⋮ & ⋮ & ⋮ & ⋮ & ⋮\\\\\n",
       "\t 55.57 & 14 & 0.24 & 0.2 & 0.048 & 0.04 & 0.2 & 0.008 & 0.28 & 5 & ⋯ & 0.4 & 0 & 0.2 & 0 & 2 & 1.456 & 0.4 & 0.5 & 0.2912 & 0\\\\\n",
       "\t 55.57 & 18 & 0.20 & 0.2 & 0.040 & 0.00 & 0.2 & 0.000 & 0.20 & 5 & ⋯ & 0.4 & 0 & 0.2 & 0 & 2 & 1.440 & 0.4 & 0.5 & 0.2880 & 0\\\\\n",
       "\t 55.57 & 15 & 0.00 & 0.2 & 0.000 & 0.00 & 0.2 & 0.000 & 0.00 & 5 & ⋯ & 0.4 & 0 & 0.2 & 0 & 2 & 1.464 & 0.4 & 0.5 & 0.2928 & 0\\\\\n",
       "\\end{tabular}\n"
      ],
      "text/markdown": [
       "\n",
       "A data.frame: 776 × 27\n",
       "\n",
       "| Sector_score &lt;dbl&gt; | LOCATION_ID &lt;chr&gt; | PARA_A &lt;dbl&gt; | Score_A &lt;dbl&gt; | Risk_A &lt;dbl&gt; | PARA_B &lt;dbl&gt; | Score_B &lt;dbl&gt; | Risk_B &lt;dbl&gt; | TOTAL &lt;dbl&gt; | numbers &lt;dbl&gt; | ⋯ ⋯ | RiSk_E &lt;dbl&gt; | History &lt;int&gt; | Prob &lt;dbl&gt; | Risk_F &lt;dbl&gt; | Score &lt;dbl&gt; | Inherent_Risk &lt;dbl&gt; | CONTROL_RISK &lt;dbl&gt; | Detection_Risk &lt;dbl&gt; | Audit_Risk &lt;dbl&gt; | Risk &lt;int&gt; |\n",
       "|---|---|---|---|---|---|---|---|---|---|---|---|---|---|---|---|---|---|---|---|---|\n",
       "| 3.89 | 23 | 4.18 | 0.6 | 2.508 | 2.50 | 0.2 | 0.500 | 6.68 | 5 | ⋯ | 0.4 | 0 | 0.2 | 0 | 2.4 | 8.574 | 0.4 | 0.5 | 1.7148 | 1 |\n",
       "| 3.89 | 6  | 0.00 | 0.2 | 0.000 | 4.83 | 0.2 | 0.966 | 4.83 | 5 | ⋯ | 0.4 | 0 | 0.2 | 0 | 2.0 | 2.554 | 0.4 | 0.5 | 0.5108 | 0 |\n",
       "| 3.89 | 6  | 0.51 | 0.2 | 0.102 | 0.23 | 0.2 | 0.046 | 0.74 | 5 | ⋯ | 0.4 | 0 | 0.2 | 0 | 2.0 | 1.548 | 0.4 | 0.5 | 0.3096 | 0 |\n",
       "| ⋮ | ⋮ | ⋮ | ⋮ | ⋮ | ⋮ | ⋮ | ⋮ | ⋮ | ⋮ | ⋱ | ⋮ | ⋮ | ⋮ | ⋮ | ⋮ | ⋮ | ⋮ | ⋮ | ⋮ | ⋮ |\n",
       "| 55.57 | 14 | 0.24 | 0.2 | 0.048 | 0.04 | 0.2 | 0.008 | 0.28 | 5 | ⋯ | 0.4 | 0 | 0.2 | 0 | 2 | 1.456 | 0.4 | 0.5 | 0.2912 | 0 |\n",
       "| 55.57 | 18 | 0.20 | 0.2 | 0.040 | 0.00 | 0.2 | 0.000 | 0.20 | 5 | ⋯ | 0.4 | 0 | 0.2 | 0 | 2 | 1.440 | 0.4 | 0.5 | 0.2880 | 0 |\n",
       "| 55.57 | 15 | 0.00 | 0.2 | 0.000 | 0.00 | 0.2 | 0.000 | 0.00 | 5 | ⋯ | 0.4 | 0 | 0.2 | 0 | 2 | 1.464 | 0.4 | 0.5 | 0.2928 | 0 |\n",
       "\n"
      ],
      "text/plain": [
       "    Sector_score LOCATION_ID PARA_A Score_A Risk_A PARA_B Score_B Risk_B TOTAL\n",
       "1   3.89         23          4.18   0.6     2.508  2.50   0.2     0.500  6.68 \n",
       "2   3.89         6           0.00   0.2     0.000  4.83   0.2     0.966  4.83 \n",
       "3   3.89         6           0.51   0.2     0.102  0.23   0.2     0.046  0.74 \n",
       "⋮   ⋮            ⋮           ⋮      ⋮       ⋮      ⋮      ⋮       ⋮      ⋮    \n",
       "774 55.57        14          0.24   0.2     0.048  0.04   0.2     0.008  0.28 \n",
       "775 55.57        18          0.20   0.2     0.040  0.00   0.2     0.000  0.20 \n",
       "776 55.57        15          0.00   0.2     0.000  0.00   0.2     0.000  0.00 \n",
       "    numbers ⋯ RiSk_E History Prob Risk_F Score Inherent_Risk CONTROL_RISK\n",
       "1   5       ⋯ 0.4    0       0.2  0      2.4   8.574         0.4         \n",
       "2   5       ⋯ 0.4    0       0.2  0      2.0   2.554         0.4         \n",
       "3   5       ⋯ 0.4    0       0.2  0      2.0   1.548         0.4         \n",
       "⋮   ⋮       ⋱ ⋮      ⋮       ⋮    ⋮      ⋮     ⋮             ⋮           \n",
       "774 5       ⋯ 0.4    0       0.2  0      2     1.456         0.4         \n",
       "775 5       ⋯ 0.4    0       0.2  0      2     1.440         0.4         \n",
       "776 5       ⋯ 0.4    0       0.2  0      2     1.464         0.4         \n",
       "    Detection_Risk Audit_Risk Risk\n",
       "1   0.5            1.7148     1   \n",
       "2   0.5            0.5108     0   \n",
       "3   0.5            0.3096     0   \n",
       "⋮   ⋮              ⋮          ⋮   \n",
       "774 0.5            0.2912     0   \n",
       "775 0.5            0.2880     0   \n",
       "776 0.5            0.2928     0   "
      ]
     },
     "metadata": {},
     "output_type": "display_data"
    },
    {
     "data": {
      "text/html": [
       "<table class=\"dataframe\">\n",
       "<caption>A data.frame: 776 × 6</caption>\n",
       "<thead>\n",
       "\t<tr><th scope=col>Sector_score</th><th scope=col>LOCATION_ID</th><th scope=col>Inherent_Risk</th><th scope=col>CONTROL_RISK</th><th scope=col>Detection_Risk</th><th scope=col>Audit_Risk</th></tr>\n",
       "\t<tr><th scope=col>&lt;dbl&gt;</th><th scope=col>&lt;chr&gt;</th><th scope=col>&lt;dbl&gt;</th><th scope=col>&lt;dbl&gt;</th><th scope=col>&lt;dbl&gt;</th><th scope=col>&lt;dbl&gt;</th></tr>\n",
       "</thead>\n",
       "<tbody>\n",
       "\t<tr><td>3.89</td><td>23</td><td>8.574</td><td>0.4</td><td>0.5</td><td>1.7148</td></tr>\n",
       "\t<tr><td>3.89</td><td>6 </td><td>2.554</td><td>0.4</td><td>0.5</td><td>0.5108</td></tr>\n",
       "\t<tr><td>3.89</td><td>6 </td><td>1.548</td><td>0.4</td><td>0.5</td><td>0.3096</td></tr>\n",
       "\t<tr><td>⋮</td><td>⋮</td><td>⋮</td><td>⋮</td><td>⋮</td><td>⋮</td></tr>\n",
       "\t<tr><td>55.57</td><td>14</td><td>1.456</td><td>0.4</td><td>0.5</td><td>0.2912</td></tr>\n",
       "\t<tr><td>55.57</td><td>18</td><td>1.440</td><td>0.4</td><td>0.5</td><td>0.2880</td></tr>\n",
       "\t<tr><td>55.57</td><td>15</td><td>1.464</td><td>0.4</td><td>0.5</td><td>0.2928</td></tr>\n",
       "</tbody>\n",
       "</table>\n"
      ],
      "text/latex": [
       "A data.frame: 776 × 6\n",
       "\\begin{tabular}{llllll}\n",
       " Sector\\_score & LOCATION\\_ID & Inherent\\_Risk & CONTROL\\_RISK & Detection\\_Risk & Audit\\_Risk\\\\\n",
       " <dbl> & <chr> & <dbl> & <dbl> & <dbl> & <dbl>\\\\\n",
       "\\hline\n",
       "\t 3.89 & 23 & 8.574 & 0.4 & 0.5 & 1.7148\\\\\n",
       "\t 3.89 & 6  & 2.554 & 0.4 & 0.5 & 0.5108\\\\\n",
       "\t 3.89 & 6  & 1.548 & 0.4 & 0.5 & 0.3096\\\\\n",
       "\t ⋮ & ⋮ & ⋮ & ⋮ & ⋮ & ⋮\\\\\n",
       "\t 55.57 & 14 & 1.456 & 0.4 & 0.5 & 0.2912\\\\\n",
       "\t 55.57 & 18 & 1.440 & 0.4 & 0.5 & 0.2880\\\\\n",
       "\t 55.57 & 15 & 1.464 & 0.4 & 0.5 & 0.2928\\\\\n",
       "\\end{tabular}\n"
      ],
      "text/markdown": [
       "\n",
       "A data.frame: 776 × 6\n",
       "\n",
       "| Sector_score &lt;dbl&gt; | LOCATION_ID &lt;chr&gt; | Inherent_Risk &lt;dbl&gt; | CONTROL_RISK &lt;dbl&gt; | Detection_Risk &lt;dbl&gt; | Audit_Risk &lt;dbl&gt; |\n",
       "|---|---|---|---|---|---|\n",
       "| 3.89 | 23 | 8.574 | 0.4 | 0.5 | 1.7148 |\n",
       "| 3.89 | 6  | 2.554 | 0.4 | 0.5 | 0.5108 |\n",
       "| 3.89 | 6  | 1.548 | 0.4 | 0.5 | 0.3096 |\n",
       "| ⋮ | ⋮ | ⋮ | ⋮ | ⋮ | ⋮ |\n",
       "| 55.57 | 14 | 1.456 | 0.4 | 0.5 | 0.2912 |\n",
       "| 55.57 | 18 | 1.440 | 0.4 | 0.5 | 0.2880 |\n",
       "| 55.57 | 15 | 1.464 | 0.4 | 0.5 | 0.2928 |\n",
       "\n"
      ],
      "text/plain": [
       "    Sector_score LOCATION_ID Inherent_Risk CONTROL_RISK Detection_Risk\n",
       "1   3.89         23          8.574         0.4          0.5           \n",
       "2   3.89         6           2.554         0.4          0.5           \n",
       "3   3.89         6           1.548         0.4          0.5           \n",
       "⋮   ⋮            ⋮           ⋮             ⋮            ⋮             \n",
       "774 55.57        14          1.456         0.4          0.5           \n",
       "775 55.57        18          1.440         0.4          0.5           \n",
       "776 55.57        15          1.464         0.4          0.5           \n",
       "    Audit_Risk\n",
       "1   1.7148    \n",
       "2   0.5108    \n",
       "3   0.3096    \n",
       "⋮   ⋮         \n",
       "774 0.2912    \n",
       "775 0.2880    \n",
       "776 0.2928    "
      ]
     },
     "metadata": {},
     "output_type": "display_data"
    }
   ],
   "source": [
    "audit_data <- read.csv(\"audit_risk.csv\")\n",
    "audit_data\n",
    "## clean data (use tidy data criteria); \n",
    "# each row is a single observation,\n",
    "# each column is a single variable, and\n",
    "# each value is a single cell (i.e., its entry in the data frame is not shared with another value).\n",
    "\n",
    "##tidying data:\n",
    "(audit_data_tidy <- select(audit_data, Sector_score, LOCATION_ID, Inherent_Risk, CONTROL_RISK, Detection_Risk, Audit_Risk))"
   ]
  },
  {
   "cell_type": "code",
   "execution_count": 12,
   "id": "0c4c4e59-36ab-48ca-afe1-0ecec394cc26",
   "metadata": {},
   "outputs": [],
   "source": [
    "audit_split <- initial_split(audit_data_tidy, prop = 0.75, strata = Audit_Risk)\n",
    "\n",
    "audit_training <- training(audit_split)\n",
    "audit_testing <- testing(audit_split)"
   ]
  },
  {
   "cell_type": "markdown",
   "id": "0141feae-989b-4921-8251-0cb3fe7387ae",
   "metadata": {},
   "source": [
    "Methods:\n",
    "\n",
    "We will use xyz column to analyze our data. In particular, we will perform a classification to predict a category for a new observation using past observations of known class. In particular, we will predict xyz based on past observations of described class of xyz. "
   ]
  },
  {
   "cell_type": "markdown",
   "id": "2165c095-c8bd-44c6-a677-3bdee21b7d80",
   "metadata": {},
   "source": [
    "Expected outcomes and significance:\n",
    "\n",
    "What do you expect to find?\n",
    "What impact could such findings have?\n",
    "What future questions could this lead to?"
   ]
  }
 ],
 "metadata": {
  "kernelspec": {
   "display_name": "R",
   "language": "R",
   "name": "ir"
  },
  "language_info": {
   "codemirror_mode": "r",
   "file_extension": ".r",
   "mimetype": "text/x-r-source",
   "name": "R",
   "pygments_lexer": "r",
   "version": "4.1.3"
  }
 },
 "nbformat": 4,
 "nbformat_minor": 5
}
