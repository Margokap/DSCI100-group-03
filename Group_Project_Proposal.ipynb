{
 "cells": [
  {
   "cell_type": "markdown",
   "id": "2b59f90c-3c1e-4112-9ba5-d7dcf07c4746",
   "metadata": {},
   "source": [
    "## Project Proposal"
   ]
  },
  {
   "cell_type": "markdown",
   "id": "ddd00d37-1558-4d77-9e65-d9d68ae317aa",
   "metadata": {},
   "source": [
    "_Feel free to edit the title_\n",
    "### Introduction\n",
    "\n",
    "[Link to styling markdown text](\"https://www.tutorialspoint.com/jupyter/jupyter_notebook_markdown_cells.htm#:~:text=Start%20the%20text%20in%20markdown,or%20run%20button%20of%20toolbar.\")"
   ]
  },
  {
   "cell_type": "code",
   "execution_count": null,
   "id": "f3904b39-555d-415d-af7e-0628bde2ffa6",
   "metadata": {},
   "outputs": [],
   "source": []
  }
 ],
 "metadata": {
  "kernelspec": {
   "display_name": "R",
   "language": "R",
   "name": "ir"
  },
  "language_info": {
   "codemirror_mode": "r",
   "file_extension": ".r",
   "mimetype": "text/x-r-source",
   "name": "R",
   "pygments_lexer": "r",
   "version": "4.1.3"
  }
 },
 "nbformat": 4,
 "nbformat_minor": 5
}
