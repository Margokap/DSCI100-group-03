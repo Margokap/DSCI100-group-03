{
 "cells": [
  {
   "cell_type": "markdown",
   "id": "dcd1af52-b637-400d-9c0d-706f8fbf1852",
   "metadata": {},
   "source": [
    "# Classification of Stellar Objects"
   ]
  },
  {
   "cell_type": "markdown",
   "id": "bea3f758-07fd-45f0-8b82-4cd117cc6447",
   "metadata": {},
   "source": [
    "### Introduction\n",
    "\n",
    "In astronomy, the classification of stars, galaxies, and quasars is fundamental towards the understanding of our own galaxy. Galaxies are large systems of stars (Greshko, 2021), whereas quasars are active galactic nuclei powered by supermassive black holes found at the center of massive galaxies (Bañados et al. 2016). The three can be hard to differentiate solely through observation as they all radiate different wavelengths, hence, astronomers use other spectral characteristics for object identification.\n",
    "\n",
    "This project aims to answer the following predictive question: Is it possible to use Sloan Digital Sky Survey (SDSS) measurements to predict whether a future stellar body of an unknown type is a star, quasar or galaxy?\n",
    "\n",
    "The dataset used in our project contains 100,000 observations of space, each of which are classified as a star, galaxy, or quasar, based on their spectral characteristics. Every observation was taken by the SDSS and was given a unique object identifier.\n",
    "\n",
    "Dataset of interest: 2017 Stellar Classification (SDSS17) https://www.kaggle.com/datasets/fedesoriano/stellar-classification-dataset-sdss17\n",
    "\n",
    "The original dataset contained 17 variables, of which 7 we are interested in. The variables of interest we will use in our dataset include:\n",
    "\n",
    "- **u**: the ultraviolet filter in the photometric system\n",
    "- **g**: the green filter in the photometric system\n",
    "- **r**: the red filter in the photometric system\n",
    "- **i**: the near Infrared filter in the photometric system\n",
    "- **z**: the infrared filter in the photometric system\n",
    "- **class**: the object class (galaxy, star, or quasar object)\n",
    "- **redshift**: the redshift value based on the increase in wavelength\n",
    "\n",
    "The class variable is the categorical variable to be predicted. Photometrics measure intensities of different wavelengths and are used by astronomers to study the structure and composition of celestial objects (Grier & Rivkin, 2019), whereas redshift is used in distance, velocity, and other calculations. Hence, we chose these variables as potential predictors.\n"
   ]
  },
  {
   "cell_type": "markdown",
   "id": "224e47f7-9598-4f1b-9865-103a5a370a05",
   "metadata": {},
   "source": [
    "### Methods\n",
    "\n",
    "The variables we will use to classify the type of a new SDSS observation include all the photometric measurements (originally labeled u, g, r, i, and z) and the redshift. Previous literature and classification models have demonstrated that many of these factors correlate with stellar body types and may contribute to classifying an astronomical event of type galaxy, quasar or star (Finlay-Freundlich, 1954; Wierzbiński et al. 2021; Simet et al. 2021). \n",
    "\n",
    "In our analysis, we will use K-nearest neighbors. Prior to the preprocessing of our training data, we will standardize (i.e. scale and center) our training data to prevent the scales of predictors from unevenly impacting our model. We will also visualize our data to see how the new observation fits with the current dataset and to gauge the accuracy of our prediction.\n",
    "\n",
    "We start by loading the packages necessary for our analysis."
   ]
  },
  {
   "cell_type": "code",
   "execution_count": 3,
   "id": "b938e821-7aac-46cd-bc33-b25995a3d762",
   "metadata": {},
   "outputs": [],
   "source": [
    "library(tidyverse)\n",
    "library(repr)\n",
    "library(tidymodels)\n",
    "options(repr.matrix.max.rows = 6)"
   ]
  },
  {
   "cell_type": "markdown",
   "id": "0a0533d0-5cbb-4915-b4b0-60c42fea2434",
   "metadata": {},
   "source": [
    "We will use the read_csv function to read our dataset of interest and assign it to an object called 'star_data'. Then we will verify whether any columns are missing information by counting how many cells have 'NA' in each column."
   ]
  },
  {
   "cell_type": "code",
   "execution_count": 6,
   "id": "4a086bb3-a02a-4a9a-bdd2-f597b6e378a2",
   "metadata": {},
   "outputs": [
    {
     "name": "stderr",
     "output_type": "stream",
     "text": [
      "\u001b[1mRows: \u001b[22m\u001b[34m100000\u001b[39m \u001b[1mColumns: \u001b[22m\u001b[34m18\u001b[39m\n",
      "\u001b[36m──\u001b[39m \u001b[1mColumn specification\u001b[22m \u001b[36m────────────────────────────────────────────────────────\u001b[39m\n",
      "\u001b[1mDelimiter:\u001b[22m \",\"\n",
      "\u001b[31mchr\u001b[39m  (1): class\n",
      "\u001b[32mdbl\u001b[39m (17): obj_ID, alpha, delta, u, g, r, i, z, run_ID, rerun_ID, cam_col, fi...\n",
      "\n",
      "\u001b[36mℹ\u001b[39m Use `spec()` to retrieve the full column specification for this data.\n",
      "\u001b[36mℹ\u001b[39m Specify the column types or set `show_col_types = FALSE` to quiet this message.\n"
     ]
    },
    {
     "data": {
      "text/html": [
       "<table class=\"dataframe\">\n",
       "<caption>A tibble: 1 × 18</caption>\n",
       "<thead>\n",
       "\t<tr><th scope=col>obj_ID</th><th scope=col>alpha</th><th scope=col>delta</th><th scope=col>u</th><th scope=col>g</th><th scope=col>r</th><th scope=col>i</th><th scope=col>z</th><th scope=col>run_ID</th><th scope=col>rerun_ID</th><th scope=col>cam_col</th><th scope=col>field_ID</th><th scope=col>spec_obj_ID</th><th scope=col>class</th><th scope=col>redshift</th><th scope=col>plate</th><th scope=col>MJD</th><th scope=col>fiber_ID</th></tr>\n",
       "\t<tr><th scope=col>&lt;int&gt;</th><th scope=col>&lt;int&gt;</th><th scope=col>&lt;int&gt;</th><th scope=col>&lt;int&gt;</th><th scope=col>&lt;int&gt;</th><th scope=col>&lt;int&gt;</th><th scope=col>&lt;int&gt;</th><th scope=col>&lt;int&gt;</th><th scope=col>&lt;int&gt;</th><th scope=col>&lt;int&gt;</th><th scope=col>&lt;int&gt;</th><th scope=col>&lt;int&gt;</th><th scope=col>&lt;int&gt;</th><th scope=col>&lt;int&gt;</th><th scope=col>&lt;int&gt;</th><th scope=col>&lt;int&gt;</th><th scope=col>&lt;int&gt;</th><th scope=col>&lt;int&gt;</th></tr>\n",
       "</thead>\n",
       "<tbody>\n",
       "\t<tr><td>0</td><td>0</td><td>0</td><td>0</td><td>0</td><td>0</td><td>0</td><td>0</td><td>0</td><td>0</td><td>0</td><td>0</td><td>0</td><td>0</td><td>0</td><td>0</td><td>0</td><td>0</td></tr>\n",
       "</tbody>\n",
       "</table>\n"
      ],
      "text/latex": [
       "A tibble: 1 × 18\n",
       "\\begin{tabular}{llllllllllllllllll}\n",
       " obj\\_ID & alpha & delta & u & g & r & i & z & run\\_ID & rerun\\_ID & cam\\_col & field\\_ID & spec\\_obj\\_ID & class & redshift & plate & MJD & fiber\\_ID\\\\\n",
       " <int> & <int> & <int> & <int> & <int> & <int> & <int> & <int> & <int> & <int> & <int> & <int> & <int> & <int> & <int> & <int> & <int> & <int>\\\\\n",
       "\\hline\n",
       "\t 0 & 0 & 0 & 0 & 0 & 0 & 0 & 0 & 0 & 0 & 0 & 0 & 0 & 0 & 0 & 0 & 0 & 0\\\\\n",
       "\\end{tabular}\n"
      ],
      "text/markdown": [
       "\n",
       "A tibble: 1 × 18\n",
       "\n",
       "| obj_ID &lt;int&gt; | alpha &lt;int&gt; | delta &lt;int&gt; | u &lt;int&gt; | g &lt;int&gt; | r &lt;int&gt; | i &lt;int&gt; | z &lt;int&gt; | run_ID &lt;int&gt; | rerun_ID &lt;int&gt; | cam_col &lt;int&gt; | field_ID &lt;int&gt; | spec_obj_ID &lt;int&gt; | class &lt;int&gt; | redshift &lt;int&gt; | plate &lt;int&gt; | MJD &lt;int&gt; | fiber_ID &lt;int&gt; |\n",
       "|---|---|---|---|---|---|---|---|---|---|---|---|---|---|---|---|---|---|\n",
       "| 0 | 0 | 0 | 0 | 0 | 0 | 0 | 0 | 0 | 0 | 0 | 0 | 0 | 0 | 0 | 0 | 0 | 0 |\n",
       "\n"
      ],
      "text/plain": [
       "  obj_ID alpha delta u g r i z run_ID rerun_ID cam_col field_ID spec_obj_ID\n",
       "1 0      0     0     0 0 0 0 0 0      0        0       0        0          \n",
       "  class redshift plate MJD fiber_ID\n",
       "1 0     0        0     0   0       "
      ]
     },
     "metadata": {},
     "output_type": "display_data"
    }
   ],
   "source": [
    "star_data <- read_csv(\"https://raw.githubusercontent.com/Margokap/DSCI100-group-03/main/star_classification.csv\")\n",
    "\n",
    "map_df(star_data, ~sum(is.na(.)))"
   ]
  },
  {
   "cell_type": "markdown",
   "id": "a71aeb3e-1007-4166-9455-a0f775bc94d3",
   "metadata": {},
   "source": [
    "No cells were missing information. Since we are only interested in the photometric variables, the redshift, and the class, we kept only these columns and assigned it to an object called 'star_data_tidy'."
   ]
  },
  {
   "cell_type": "code",
   "execution_count": 7,
   "id": "baccceb1-ffa8-40b2-a835-fe95ef465edd",
   "metadata": {},
   "outputs": [
    {
     "data": {
      "text/html": [
       "<table class=\"dataframe\">\n",
       "<caption>A tibble: 100000 × 7</caption>\n",
       "<thead>\n",
       "\t<tr><th scope=col>u</th><th scope=col>g</th><th scope=col>r</th><th scope=col>i</th><th scope=col>z</th><th scope=col>redshift</th><th scope=col>class</th></tr>\n",
       "\t<tr><th scope=col>&lt;dbl&gt;</th><th scope=col>&lt;dbl&gt;</th><th scope=col>&lt;dbl&gt;</th><th scope=col>&lt;dbl&gt;</th><th scope=col>&lt;dbl&gt;</th><th scope=col>&lt;dbl&gt;</th><th scope=col>&lt;chr&gt;</th></tr>\n",
       "</thead>\n",
       "<tbody>\n",
       "\t<tr><td>23.87882</td><td>22.27530</td><td>20.39501</td><td>19.16573</td><td>18.79371</td><td>0.6347936</td><td>GALAXY</td></tr>\n",
       "\t<tr><td>24.77759</td><td>22.83188</td><td>22.58444</td><td>21.16812</td><td>21.61427</td><td>0.7791360</td><td>GALAXY</td></tr>\n",
       "\t<tr><td>25.26307</td><td>22.66389</td><td>20.60976</td><td>19.34857</td><td>18.94827</td><td>0.6441945</td><td>GALAXY</td></tr>\n",
       "\t<tr><td>⋮</td><td>⋮</td><td>⋮</td><td>⋮</td><td>⋮</td><td>⋮</td><td>⋮</td></tr>\n",
       "\t<tr><td>21.16916</td><td>19.26997</td><td>18.20428</td><td>17.69034</td><td>17.35221</td><td>0.1433656</td><td>GALAXY</td></tr>\n",
       "\t<tr><td>25.35039</td><td>21.63757</td><td>19.91386</td><td>19.07254</td><td>18.62482</td><td>0.4550396</td><td>GALAXY</td></tr>\n",
       "\t<tr><td>22.62171</td><td>21.79745</td><td>20.60115</td><td>20.00959</td><td>19.28075</td><td>0.5429442</td><td>GALAXY</td></tr>\n",
       "</tbody>\n",
       "</table>\n"
      ],
      "text/latex": [
       "A tibble: 100000 × 7\n",
       "\\begin{tabular}{lllllll}\n",
       " u & g & r & i & z & redshift & class\\\\\n",
       " <dbl> & <dbl> & <dbl> & <dbl> & <dbl> & <dbl> & <chr>\\\\\n",
       "\\hline\n",
       "\t 23.87882 & 22.27530 & 20.39501 & 19.16573 & 18.79371 & 0.6347936 & GALAXY\\\\\n",
       "\t 24.77759 & 22.83188 & 22.58444 & 21.16812 & 21.61427 & 0.7791360 & GALAXY\\\\\n",
       "\t 25.26307 & 22.66389 & 20.60976 & 19.34857 & 18.94827 & 0.6441945 & GALAXY\\\\\n",
       "\t ⋮ & ⋮ & ⋮ & ⋮ & ⋮ & ⋮ & ⋮\\\\\n",
       "\t 21.16916 & 19.26997 & 18.20428 & 17.69034 & 17.35221 & 0.1433656 & GALAXY\\\\\n",
       "\t 25.35039 & 21.63757 & 19.91386 & 19.07254 & 18.62482 & 0.4550396 & GALAXY\\\\\n",
       "\t 22.62171 & 21.79745 & 20.60115 & 20.00959 & 19.28075 & 0.5429442 & GALAXY\\\\\n",
       "\\end{tabular}\n"
      ],
      "text/markdown": [
       "\n",
       "A tibble: 100000 × 7\n",
       "\n",
       "| u &lt;dbl&gt; | g &lt;dbl&gt; | r &lt;dbl&gt; | i &lt;dbl&gt; | z &lt;dbl&gt; | redshift &lt;dbl&gt; | class &lt;chr&gt; |\n",
       "|---|---|---|---|---|---|---|\n",
       "| 23.87882 | 22.27530 | 20.39501 | 19.16573 | 18.79371 | 0.6347936 | GALAXY |\n",
       "| 24.77759 | 22.83188 | 22.58444 | 21.16812 | 21.61427 | 0.7791360 | GALAXY |\n",
       "| 25.26307 | 22.66389 | 20.60976 | 19.34857 | 18.94827 | 0.6441945 | GALAXY |\n",
       "| ⋮ | ⋮ | ⋮ | ⋮ | ⋮ | ⋮ | ⋮ |\n",
       "| 21.16916 | 19.26997 | 18.20428 | 17.69034 | 17.35221 | 0.1433656 | GALAXY |\n",
       "| 25.35039 | 21.63757 | 19.91386 | 19.07254 | 18.62482 | 0.4550396 | GALAXY |\n",
       "| 22.62171 | 21.79745 | 20.60115 | 20.00959 | 19.28075 | 0.5429442 | GALAXY |\n",
       "\n"
      ],
      "text/plain": [
       "       u        g        r        i        z        redshift  class \n",
       "1      23.87882 22.27530 20.39501 19.16573 18.79371 0.6347936 GALAXY\n",
       "2      24.77759 22.83188 22.58444 21.16812 21.61427 0.7791360 GALAXY\n",
       "3      25.26307 22.66389 20.60976 19.34857 18.94827 0.6441945 GALAXY\n",
       "⋮      ⋮        ⋮        ⋮        ⋮        ⋮        ⋮         ⋮     \n",
       "99998  21.16916 19.26997 18.20428 17.69034 17.35221 0.1433656 GALAXY\n",
       "99999  25.35039 21.63757 19.91386 19.07254 18.62482 0.4550396 GALAXY\n",
       "100000 22.62171 21.79745 20.60115 20.00959 19.28075 0.5429442 GALAXY"
      ]
     },
     "metadata": {},
     "output_type": "display_data"
    }
   ],
   "source": [
    "star_data_tidy <- select(star_data, u, g, r, i, z, redshift, class)\n",
    "\n",
    "star_data_tidy"
   ]
  },
  {
   "cell_type": "markdown",
   "id": "ad3cabec-54ff-4921-ae45-0a7921e5e2df",
   "metadata": {},
   "source": [
    "We then changed the column titles to be more comprehensive, which concluded the tidying of the data set."
   ]
  },
  {
   "cell_type": "code",
   "execution_count": 8,
   "id": "0e73e656-9781-406c-8f39-04ea60e4e388",
   "metadata": {},
   "outputs": [
    {
     "data": {
      "text/html": [
       "<table class=\"dataframe\">\n",
       "<caption>A tibble: 100000 × 7</caption>\n",
       "<thead>\n",
       "\t<tr><th scope=col>UV_filter</th><th scope=col>Green_filter</th><th scope=col>Red_filter</th><th scope=col>Near_Infrared_filter</th><th scope=col>Infrared_filter</th><th scope=col>Redshift</th><th scope=col>Stellar_object</th></tr>\n",
       "\t<tr><th scope=col>&lt;dbl&gt;</th><th scope=col>&lt;dbl&gt;</th><th scope=col>&lt;dbl&gt;</th><th scope=col>&lt;dbl&gt;</th><th scope=col>&lt;dbl&gt;</th><th scope=col>&lt;dbl&gt;</th><th scope=col>&lt;chr&gt;</th></tr>\n",
       "</thead>\n",
       "<tbody>\n",
       "\t<tr><td>23.87882</td><td>22.27530</td><td>20.39501</td><td>19.16573</td><td>18.79371</td><td>0.6347936</td><td>GALAXY</td></tr>\n",
       "\t<tr><td>24.77759</td><td>22.83188</td><td>22.58444</td><td>21.16812</td><td>21.61427</td><td>0.7791360</td><td>GALAXY</td></tr>\n",
       "\t<tr><td>25.26307</td><td>22.66389</td><td>20.60976</td><td>19.34857</td><td>18.94827</td><td>0.6441945</td><td>GALAXY</td></tr>\n",
       "\t<tr><td>⋮</td><td>⋮</td><td>⋮</td><td>⋮</td><td>⋮</td><td>⋮</td><td>⋮</td></tr>\n",
       "\t<tr><td>21.16916</td><td>19.26997</td><td>18.20428</td><td>17.69034</td><td>17.35221</td><td>0.1433656</td><td>GALAXY</td></tr>\n",
       "\t<tr><td>25.35039</td><td>21.63757</td><td>19.91386</td><td>19.07254</td><td>18.62482</td><td>0.4550396</td><td>GALAXY</td></tr>\n",
       "\t<tr><td>22.62171</td><td>21.79745</td><td>20.60115</td><td>20.00959</td><td>19.28075</td><td>0.5429442</td><td>GALAXY</td></tr>\n",
       "</tbody>\n",
       "</table>\n"
      ],
      "text/latex": [
       "A tibble: 100000 × 7\n",
       "\\begin{tabular}{lllllll}\n",
       " UV\\_filter & Green\\_filter & Red\\_filter & Near\\_Infrared\\_filter & Infrared\\_filter & Redshift & Stellar\\_object\\\\\n",
       " <dbl> & <dbl> & <dbl> & <dbl> & <dbl> & <dbl> & <chr>\\\\\n",
       "\\hline\n",
       "\t 23.87882 & 22.27530 & 20.39501 & 19.16573 & 18.79371 & 0.6347936 & GALAXY\\\\\n",
       "\t 24.77759 & 22.83188 & 22.58444 & 21.16812 & 21.61427 & 0.7791360 & GALAXY\\\\\n",
       "\t 25.26307 & 22.66389 & 20.60976 & 19.34857 & 18.94827 & 0.6441945 & GALAXY\\\\\n",
       "\t ⋮ & ⋮ & ⋮ & ⋮ & ⋮ & ⋮ & ⋮\\\\\n",
       "\t 21.16916 & 19.26997 & 18.20428 & 17.69034 & 17.35221 & 0.1433656 & GALAXY\\\\\n",
       "\t 25.35039 & 21.63757 & 19.91386 & 19.07254 & 18.62482 & 0.4550396 & GALAXY\\\\\n",
       "\t 22.62171 & 21.79745 & 20.60115 & 20.00959 & 19.28075 & 0.5429442 & GALAXY\\\\\n",
       "\\end{tabular}\n"
      ],
      "text/markdown": [
       "\n",
       "A tibble: 100000 × 7\n",
       "\n",
       "| UV_filter &lt;dbl&gt; | Green_filter &lt;dbl&gt; | Red_filter &lt;dbl&gt; | Near_Infrared_filter &lt;dbl&gt; | Infrared_filter &lt;dbl&gt; | Redshift &lt;dbl&gt; | Stellar_object &lt;chr&gt; |\n",
       "|---|---|---|---|---|---|---|\n",
       "| 23.87882 | 22.27530 | 20.39501 | 19.16573 | 18.79371 | 0.6347936 | GALAXY |\n",
       "| 24.77759 | 22.83188 | 22.58444 | 21.16812 | 21.61427 | 0.7791360 | GALAXY |\n",
       "| 25.26307 | 22.66389 | 20.60976 | 19.34857 | 18.94827 | 0.6441945 | GALAXY |\n",
       "| ⋮ | ⋮ | ⋮ | ⋮ | ⋮ | ⋮ | ⋮ |\n",
       "| 21.16916 | 19.26997 | 18.20428 | 17.69034 | 17.35221 | 0.1433656 | GALAXY |\n",
       "| 25.35039 | 21.63757 | 19.91386 | 19.07254 | 18.62482 | 0.4550396 | GALAXY |\n",
       "| 22.62171 | 21.79745 | 20.60115 | 20.00959 | 19.28075 | 0.5429442 | GALAXY |\n",
       "\n"
      ],
      "text/plain": [
       "       UV_filter Green_filter Red_filter Near_Infrared_filter Infrared_filter\n",
       "1      23.87882  22.27530     20.39501   19.16573             18.79371       \n",
       "2      24.77759  22.83188     22.58444   21.16812             21.61427       \n",
       "3      25.26307  22.66389     20.60976   19.34857             18.94827       \n",
       "⋮      ⋮         ⋮            ⋮          ⋮                    ⋮              \n",
       "99998  21.16916  19.26997     18.20428   17.69034             17.35221       \n",
       "99999  25.35039  21.63757     19.91386   19.07254             18.62482       \n",
       "100000 22.62171  21.79745     20.60115   20.00959             19.28075       \n",
       "       Redshift  Stellar_object\n",
       "1      0.6347936 GALAXY        \n",
       "2      0.7791360 GALAXY        \n",
       "3      0.6441945 GALAXY        \n",
       "⋮      ⋮         ⋮             \n",
       "99998  0.1433656 GALAXY        \n",
       "99999  0.4550396 GALAXY        \n",
       "100000 0.5429442 GALAXY        "
      ]
     },
     "metadata": {},
     "output_type": "display_data"
    }
   ],
   "source": [
    "names(star_data_tidy) <- c(\"UV_filter\",\n",
    "                            \"Green_filter\",\n",
    "                            \"Red_filter\",\n",
    "                            \"Near_Infrared_filter\",\n",
    "                            \"Infrared_filter\",\n",
    "                            \"Redshift\",\n",
    "                            \"Stellar_object\")\n",
    "star_data_tidy"
   ]
  },
  {
   "cell_type": "markdown",
   "id": "bbf0d0b1-6983-4afc-8b0b-cc1676c7d768",
   "metadata": {},
   "source": [
    "Results:"
   ]
  },
  {
   "cell_type": "markdown",
   "id": "262cc7fe-06a4-4f89-8d73-f3028d657e80",
   "metadata": {},
   "source": [
    "Discussion:\n",
    "\n",
    "Impact of our work:\n",
    "\n"
   ]
  },
  {
   "cell_type": "markdown",
   "id": "4034e3cd-5c65-4e74-a900-45f498470240",
   "metadata": {},
   "source": [
    "References:"
   ]
  }
 ],
 "metadata": {
  "kernelspec": {
   "display_name": "R",
   "language": "R",
   "name": "ir"
  },
  "language_info": {
   "codemirror_mode": "r",
   "file_extension": ".r",
   "mimetype": "text/x-r-source",
   "name": "R",
   "pygments_lexer": "r",
   "version": "4.1.3"
  }
 },
 "nbformat": 4,
 "nbformat_minor": 5
}
