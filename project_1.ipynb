{
 "cells": [
  {
   "cell_type": "markdown",
   "id": "dcd1af52-b637-400d-9c0d-706f8fbf1852",
   "metadata": {},
   "source": [
    "Title: Classification of Stellar Objects"
   ]
  },
  {
   "cell_type": "markdown",
   "id": "bea3f758-07fd-45f0-8b82-4cd117cc6447",
   "metadata": {},
   "source": [
    "Introduction:\n",
    "In astronomy, the classification of stars, galaxies, and quasars is fundamental towards the understanding of our own galaxy. Galaxies are large systems of stars (Greshko, 2021), whereas quasars are active galactic nuclei powered by supermassive black holes found at the center of massive galaxies (Bañados et al. 2016). The three can be hard to differentiate solely through observation as they all radiate different wavelengths, hence, astronomers use other spectral characteristics for object identification.\n",
    "\n",
    "This project aims to answer the following predictive question: Is it possible to use Sloan Digital Sky Survey (SDSS) measurements to predict whether a future stellar body of an unknown type is a star, quasar or galaxy?\n",
    "\n",
    "The dataset used in our project contains 100,000 observations of space, each of which are classified as a star, galaxy, or quasar, based on their spectral characteristics. Every observation was taken by the SDSS and was given a unique object identifier.\n",
    "\n",
    "Dataset of interest: 2017 Stellar Classification (SDSS17) https://www.kaggle.com/datasets/fedesoriano/stellar-classification-dataset-sdss17\n",
    "\n",
    "The variables of interest we will use in our dataset include:\n",
    "\n",
    "u: the ultraviolet filter in the photometric system\n",
    "g: the green filter in the photometric system\n",
    "r: the red filter in the photometric system\n",
    "i: the near Infrared filter in the photometric system\n",
    "z: the infrared filter in the photometric system\n",
    "class: the object class (galaxy, star, or quasar object)\n",
    "redshift: the redshift value based on the increase in wavelength\n"
   ]
  },
  {
   "cell_type": "markdown",
   "id": "224e47f7-9598-4f1b-9865-103a5a370a05",
   "metadata": {},
   "source": [
    "Methods:"
   ]
  },
  {
   "cell_type": "markdown",
   "id": "bbf0d0b1-6983-4afc-8b0b-cc1676c7d768",
   "metadata": {},
   "source": [
    "Results:"
   ]
  },
  {
   "cell_type": "markdown",
   "id": "262cc7fe-06a4-4f89-8d73-f3028d657e80",
   "metadata": {},
   "source": [
    "Discussion:\n",
    "\n",
    "Impact of our work:\n",
    "\n"
   ]
  },
  {
   "cell_type": "markdown",
   "id": "4034e3cd-5c65-4e74-a900-45f498470240",
   "metadata": {},
   "source": [
    "References:"
   ]
  }
 ],
 "metadata": {
  "kernelspec": {
   "display_name": "R",
   "language": "R",
   "name": "ir"
  },
  "language_info": {
   "codemirror_mode": "r",
   "file_extension": ".r",
   "mimetype": "text/x-r-source",
   "name": "R",
   "pygments_lexer": "r",
   "version": "4.1.3"
  }
 },
 "nbformat": 4,
 "nbformat_minor": 5
}
